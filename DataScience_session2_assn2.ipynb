{
 "cells": [
  {
   "cell_type": "code",
   "execution_count": 43,
   "metadata": {},
   "outputs": [
    {
     "name": "stdout",
     "output_type": "stream",
     "text": [
      "* \n",
      "* * \n",
      "* * * \n",
      "* * * * \n",
      "* * * * * \n",
      "* * * * \n",
      "* * * \n",
      "* * \n",
      "* \n"
     ]
    }
   ],
   "source": [
    "# Create the below pattern using nested for loop in Python.\n",
    "\n",
    "# *\n",
    "# * *\n",
    "# * * *\n",
    "# * * * *\n",
    "# * * * * *\n",
    "# * * * *\n",
    "# * * *\n",
    "# * *\n",
    "# *\n",
    "\n",
    "n=5\n",
    "# iterate over the list\n",
    "for i in range(1,n+1):\n",
    "    print( \"* \"*i)\n",
    "for i in range(n-1,0,-1):\n",
    "    print( \"* \"*i)"
   ]
  },
  {
   "cell_type": "code",
   "execution_count": 44,
   "metadata": {},
   "outputs": [
    {
     "name": "stdout",
     "output_type": "stream",
     "text": [
      "* \n",
      "* * \n",
      "* * * \n",
      "* * * * \n",
      "* * * * * \n",
      "* * * * \n",
      "* * * \n",
      "* * \n",
      "* \n",
      "\n"
     ]
    }
   ],
   "source": [
    "# Create the below pattern using nested for loop in Python.\n",
    "# *\n",
    "# * *\n",
    "# * * *\n",
    "# * * * *\n",
    "# * * * * *\n",
    "# * * * *\n",
    "# * * *\n",
    "# * *\n",
    "# *\n",
    "\n",
    "n=5\n",
    "# iterate over the list\n",
    "for i in range(1,n+1):\n",
    "    for j in range(1,i+1):\n",
    "        print ('*' , end=\" \")\n",
    "   \n",
    "    print()\n",
    "for i in range(n,0,-1):\n",
    "    for j in range(i-1,0,-1):\n",
    "        print ('*' , end=\" \")\n",
    "   \n",
    "    print()"
   ]
  }
 ],
 "metadata": {
  "kernelspec": {
   "display_name": "Python 3",
   "language": "python",
   "name": "python3"
  },
  "language_info": {
   "codemirror_mode": {
    "name": "ipython",
    "version": 3
   },
   "file_extension": ".py",
   "mimetype": "text/x-python",
   "name": "python",
   "nbconvert_exporter": "python",
   "pygments_lexer": "ipython3",
   "version": "3.6.3"
  }
 },
 "nbformat": 4,
 "nbformat_minor": 2
}
